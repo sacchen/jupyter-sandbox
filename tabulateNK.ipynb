{
 "cells": [
  {
   "cell_type": "code",
   "execution_count": null,
   "id": "695d0850",
   "metadata": {},
   "outputs": [],
   "source": [
    "import math\n",
    "for n in range(0, 6):\n",
    "    for k in range(0, n+1):\n",
    "        print(\"n=\", n)\n",
    "        print(\"k=\", k)\n",
    "        print(n, k, math.factorial(n)/(math.factorial(n-k) * math.factorial(k)))\n",
    "        print()"
   ]
  },
  {
   "cell_type": "code",
   "execution_count": null,
   "id": "219ea0fb",
   "metadata": {},
   "outputs": [],
   "source": [
    "# k starts at 1 to k\n",
    "\n",
    "# elements in each set\n",
    "total_students = 40\n",
    "S = 16\n",
    "B = 18\n",
    "E = 12\n",
    "\n",
    "the_set = {S: 16, B: 18, E: 12}\n",
    "\n",
    "n = 3\n",
    "\n",
    "sum = 0\n",
    "\n",
    "def main():\n",
    "    for k in range(1, n + 1):\n",
    "        k_values = (-1)^(n-1)\n",
    "        \n",
    "        k_values * intersections()\n",
    "\n",
    "def n_choose_k(n, k):\n",
    "    return math.factorial(n)/(math.factorial(n-k) * math.factorial(k))\n",
    "\n",
    "def intersections():\n",
    "    for k in range(1, n + 1):\n",
    "\n",
    "    \n",
    "    return \n",
    "\n",
    "def pair(the_set):\n",
    "    \n",
    "\n",
    "\n",
    "main()"
   ]
  }
 ],
 "metadata": {
  "kernelspec": {
   "display_name": ".venv",
   "language": "python",
   "name": "python3"
  },
  "language_info": {
   "codemirror_mode": {
    "name": "ipython",
    "version": 3
   },
   "file_extension": ".py",
   "mimetype": "text/x-python",
   "name": "python",
   "nbconvert_exporter": "python",
   "pygments_lexer": "ipython3",
   "version": "3.13.5"
  }
 },
 "nbformat": 4,
 "nbformat_minor": 5
}
