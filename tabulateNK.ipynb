{
 "cells": [
  {
   "cell_type": "code",
   "execution_count": null,
   "id": "695d0850",
   "metadata": {},
   "outputs": [],
   "source": [
    "# TABULATE N CHOOSE K\n",
    "\n",
    "import math\n",
    "for n in range(0, 6):\n",
    "    for k in range(0, n+1):\n",
    "        print(\"n=\", n)\n",
    "        print(\"k=\", k)\n",
    "        print(n, k, math.factorial(n)/(math.factorial(n-k) * math.factorial(k)))\n",
    "        print()"
   ]
  },
  {
   "cell_type": "code",
   "execution_count": null,
   "id": "219ea0fb",
   "metadata": {},
   "outputs": [],
   "source": [
    "# INCLUSION EXCLUSION PRINCIPLE\n",
    "\n",
    "# k starts at 1 to k\n",
    "\n",
    "# elements in each set\n",
    "total_students = 40\n",
    "\n",
    "# Using strings to represent the sets makes it clearer\n",
    "intersection_sizes = {\n",
    "    frozenset({'S'}): 16,\n",
    "    frozenset({'B'}): 18,\n",
    "    frozenset({'E'}): 12,\n",
    "    frozenset({'S', 'B'}): 7,\n",
    "    frozenset({'S', 'E'}): 3,\n",
    "    frozenset({'B', 'E'}): 5,\n",
    "    frozenset({'S', 'B', 'E'}): 2,\n",
    "}\n",
    "\n",
    "set_names = ['S', 'B', 'E']\n",
    "n = len(set_names)\n",
    "\n",
    "sum = 0\n",
    "\n",
    "def main():\n",
    "    for i in range(1, n + 1):\n",
    "        k_values = (-1)^(k-1)\n",
    "        \n",
    "        k_values * intersections()\n",
    "\n",
    "def n_choose_k(n, k):\n",
    "    return math.factorial(n)/(math.factorial(n-k) * math.factorial(k))\n",
    "\n",
    "def intersections():\n",
    "    for k in range(1, n + 1):\n",
    "\n",
    "    \n",
    "    return \n",
    "\n",
    "def pair(the_set):\n",
    "\n",
    "\n",
    "\n",
    "main()"
   ]
  }
 ],
 "metadata": {
  "kernelspec": {
   "display_name": ".venv",
   "language": "python",
   "name": "python3"
  },
  "language_info": {
   "codemirror_mode": {
    "name": "ipython",
    "version": 3
   },
   "file_extension": ".py",
   "mimetype": "text/x-python",
   "name": "python",
   "nbconvert_exporter": "python",
   "pygments_lexer": "ipython3",
   "version": "3.13.5"
  }
 },
 "nbformat": 4,
 "nbformat_minor": 5
}
